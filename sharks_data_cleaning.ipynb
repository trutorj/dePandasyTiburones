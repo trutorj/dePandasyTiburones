{
 "cells": [
  {
   "cell_type": "markdown",
   "metadata": {},
   "source": [
    "# Cleaning of shark attacks data set"
   ]
  },
  {
   "cell_type": "markdown",
   "metadata": {},
   "source": [
    "## Objetive\n",
    "\n",
    "The main purpose of this project is double. In one hand, we want to know what shark species is la que más está registrada en los ataques. In the other hand, we want to determine the profile of the people who has provoked the incidents the most (nationality, activity, sex and age).\n",
    "Global Shark Attack File defines a provoked incident as one in which the shark was speared, hooked, captured or in which a human drew \"first blood\""
   ]
  },
  {
   "cell_type": "code",
   "execution_count": null,
   "metadata": {},
   "outputs": [],
   "source": [
    "#Imports\n",
    "import pandas as pd\n",
    "import numpy as np\n",
    "import re\n",
    "\n",
    "# Functions\n",
    "# Evaluate the NA's\n",
    "def evaluar_NA(data):\n",
    "    # Pandas series denoting features and the sum of their null values\n",
    "    null_sum = data.isna().sum()\n",
    "    # Total\n",
    "    total = null_sum.sort_values(ascending=False)\n",
    "    # Percentage\n",
    "    percent = ( ((null_sum / len(data.index))*100).round(2) ).sort_values(ascending=False) \n",
    "    # concatenate along the columns to create the complete dataframe\n",
    "    df_NA = pd.concat([total, percent], axis=1, keys=['Number of NA', 'Percent NA'])   \n",
    "    return df_NA\n",
    "\n",
    "# data\n",
    "data = pd.read_csv('../data/attacks.csv', encoding='latin-1')"
   ]
  },
  {
   "cell_type": "markdown",
   "metadata": {},
   "source": [
    "Quick preview of the data"
   ]
  },
  {
   "cell_type": "code",
   "execution_count": 16,
   "metadata": {},
   "outputs": [
    {
     "name": "stdout",
     "output_type": "stream",
     "text": [
      "(25723, 24)\n",
      "Index(['Case Number', 'Date', 'Year', 'Type', 'Country', 'Area', 'Location',\n",
      "       'Activity', 'Name', 'Sex ', 'Age', 'Injury', 'Fatal (Y/N)', 'Time',\n",
      "       'Species ', 'Investigator or Source', 'pdf', 'href formula', 'href',\n",
      "       'Case Number.1', 'Case Number.2', 'original order', 'Unnamed: 22',\n",
      "       'Unnamed: 23'],\n",
      "      dtype='object')\n"
     ]
    }
   ],
   "source": [
    "print(data.shape)\n",
    "print(data.columns)\n"
   ]
  },
  {
   "cell_type": "markdown",
   "metadata": {},
   "source": [
    "Our first task is to subset the initial dataset to keep only the variables that we are going to use:\n",
    "* Type\n",
    "* Country\n",
    "* Activity\n",
    "* Sex\n",
    "* Age\n",
    "* Species"
   ]
  },
  {
   "cell_type": "code",
   "execution_count": 17,
   "metadata": {},
   "outputs": [
    {
     "data": {
      "text/html": [
       "<div>\n",
       "<style scoped>\n",
       "    .dataframe tbody tr th:only-of-type {\n",
       "        vertical-align: middle;\n",
       "    }\n",
       "\n",
       "    .dataframe tbody tr th {\n",
       "        vertical-align: top;\n",
       "    }\n",
       "\n",
       "    .dataframe thead th {\n",
       "        text-align: right;\n",
       "    }\n",
       "</style>\n",
       "<table border=\"1\" class=\"dataframe\">\n",
       "  <thead>\n",
       "    <tr style=\"text-align: right;\">\n",
       "      <th></th>\n",
       "      <th>Case Number</th>\n",
       "      <th>Type</th>\n",
       "      <th>Country</th>\n",
       "      <th>Activity</th>\n",
       "      <th>Sex</th>\n",
       "      <th>Age</th>\n",
       "      <th>Species</th>\n",
       "    </tr>\n",
       "  </thead>\n",
       "  <tbody>\n",
       "    <tr>\n",
       "      <th>0</th>\n",
       "      <td>2018.06.25</td>\n",
       "      <td>Boating</td>\n",
       "      <td>USA</td>\n",
       "      <td>Paddling</td>\n",
       "      <td>F</td>\n",
       "      <td>57</td>\n",
       "      <td>White shark</td>\n",
       "    </tr>\n",
       "    <tr>\n",
       "      <th>1</th>\n",
       "      <td>2018.06.18</td>\n",
       "      <td>Unprovoked</td>\n",
       "      <td>USA</td>\n",
       "      <td>Standing</td>\n",
       "      <td>F</td>\n",
       "      <td>11</td>\n",
       "      <td>NaN</td>\n",
       "    </tr>\n",
       "    <tr>\n",
       "      <th>2</th>\n",
       "      <td>2018.06.09</td>\n",
       "      <td>Invalid</td>\n",
       "      <td>USA</td>\n",
       "      <td>Surfing</td>\n",
       "      <td>M</td>\n",
       "      <td>48</td>\n",
       "      <td>NaN</td>\n",
       "    </tr>\n",
       "    <tr>\n",
       "      <th>3</th>\n",
       "      <td>2018.06.08</td>\n",
       "      <td>Unprovoked</td>\n",
       "      <td>AUSTRALIA</td>\n",
       "      <td>Surfing</td>\n",
       "      <td>M</td>\n",
       "      <td>NaN</td>\n",
       "      <td>2 m shark</td>\n",
       "    </tr>\n",
       "    <tr>\n",
       "      <th>4</th>\n",
       "      <td>2018.06.04</td>\n",
       "      <td>Provoked</td>\n",
       "      <td>MEXICO</td>\n",
       "      <td>Free diving</td>\n",
       "      <td>M</td>\n",
       "      <td>NaN</td>\n",
       "      <td>Tiger shark, 3m</td>\n",
       "    </tr>\n",
       "  </tbody>\n",
       "</table>\n",
       "</div>"
      ],
      "text/plain": [
       "  Case Number        Type    Country     Activity Sex  Age          Species\n",
       "0  2018.06.25     Boating        USA     Paddling   F   57      White shark\n",
       "1  2018.06.18  Unprovoked        USA     Standing   F   11              NaN\n",
       "2  2018.06.09     Invalid        USA      Surfing   M   48              NaN\n",
       "3  2018.06.08  Unprovoked  AUSTRALIA      Surfing   M  NaN        2 m shark\n",
       "4  2018.06.04    Provoked     MEXICO  Free diving   M  NaN  Tiger shark, 3m"
      ]
     },
     "execution_count": 17,
     "metadata": {},
     "output_type": "execute_result"
    }
   ],
   "source": [
    "# Subset the dataframe with the needed columns\n",
    "df_subset = data[[\"Case Number\", \"Type\", \"Country\", \"Activity\", \"Sex \", \"Age\", \"Species \"]]\n",
    "\n",
    "# Rename the Sex and Species columns to remove the last space and avoid problems in the future...\n",
    "df_subset = df_subset.rename(columns={\"Sex \": \"Sex\", \"Species \": \"Species\"})\n",
    "\n",
    "df_subset.head()"
   ]
  },
  {
   "cell_type": "markdown",
   "metadata": {},
   "source": [
    "## The most trouble maker human"
   ]
  },
  {
   "cell_type": "code",
   "execution_count": 18,
   "metadata": {},
   "outputs": [],
   "source": [
    "# Select only the needed columns\n",
    "df_humans = df_subset[[\"Type\", \"Country\", \"Activity\", \"Sex\", \"Age\",]]\n",
    "# Select only the provoked incidents\n",
    "df_humans = df_humans[df_humans[\"Type\"] == \"Provoked\"]\n",
    "#df_humans"
   ]
  },
  {
   "cell_type": "markdown",
   "metadata": {},
   "source": [
    "First at all, we are goint the evaluate the amount of NA's in the dataset"
   ]
  },
  {
   "cell_type": "code",
   "execution_count": 5,
   "metadata": {
    "scrolled": true
   },
   "outputs": [
    {
     "data": {
      "text/html": [
       "<div>\n",
       "<style scoped>\n",
       "    .dataframe tbody tr th:only-of-type {\n",
       "        vertical-align: middle;\n",
       "    }\n",
       "\n",
       "    .dataframe tbody tr th {\n",
       "        vertical-align: top;\n",
       "    }\n",
       "\n",
       "    .dataframe thead th {\n",
       "        text-align: right;\n",
       "    }\n",
       "</style>\n",
       "<table border=\"1\" class=\"dataframe\">\n",
       "  <thead>\n",
       "    <tr style=\"text-align: right;\">\n",
       "      <th></th>\n",
       "      <th>Number of NA</th>\n",
       "      <th>Percent NA</th>\n",
       "    </tr>\n",
       "  </thead>\n",
       "  <tbody>\n",
       "    <tr>\n",
       "      <th>Age</th>\n",
       "      <td>294</td>\n",
       "      <td>51.22</td>\n",
       "    </tr>\n",
       "    <tr>\n",
       "      <th>Sex</th>\n",
       "      <td>57</td>\n",
       "      <td>9.93</td>\n",
       "    </tr>\n",
       "    <tr>\n",
       "      <th>Activity</th>\n",
       "      <td>35</td>\n",
       "      <td>6.10</td>\n",
       "    </tr>\n",
       "    <tr>\n",
       "      <th>Country</th>\n",
       "      <td>3</td>\n",
       "      <td>0.52</td>\n",
       "    </tr>\n",
       "    <tr>\n",
       "      <th>Type</th>\n",
       "      <td>0</td>\n",
       "      <td>0.00</td>\n",
       "    </tr>\n",
       "  </tbody>\n",
       "</table>\n",
       "</div>"
      ],
      "text/plain": [
       "          Number of NA  Percent NA\n",
       "Age                294       51.22\n",
       "Sex                 57        9.93\n",
       "Activity            35        6.10\n",
       "Country              3        0.52\n",
       "Type                 0        0.00"
      ]
     },
     "execution_count": 5,
     "metadata": {},
     "output_type": "execute_result"
    }
   ],
   "source": [
    "# Evaluate the percentage of \n",
    "evaluar_NA(df_humans)"
   ]
  },
  {
   "cell_type": "markdown",
   "metadata": {},
   "source": [
    "Due to the high percentage of NA's in the **Age** column, we've decided to exclude it from the dataset."
   ]
  },
  {
   "cell_type": "code",
   "execution_count": 7,
   "metadata": {},
   "outputs": [
    {
     "data": {
      "text/plain": [
       "(487, 4)"
      ]
     },
     "execution_count": 7,
     "metadata": {},
     "output_type": "execute_result"
    }
   ],
   "source": [
    "# Drop the \"Age\" column\n",
    "df_humans_cl = df_humans.drop([\"Age\"], axis=1)\n",
    "\n",
    "# Drop NA's\n",
    "df_humans_cl = df_humans_cl.dropna(axis=0)\n",
    "df_humans_cl.shape"
   ]
  },
  {
   "cell_type": "markdown",
   "metadata": {},
   "source": [
    "Now, throgh regex expressions, we are going to extract the activy. With this regex, we want to group the activities into a few categories, in order to better group the data."
   ]
  },
  {
   "cell_type": "code",
   "execution_count": 19,
   "metadata": {
    "scrolled": true
   },
   "outputs": [],
   "source": [
    "df_humans_cl[\"regActivity\"] = df_humans_cl[\"Activity\"].str.findall(r\"((?:[A-Za-z-]*\\s){0,1}(?:[A-Za-z]*ing))\")\n",
    "#print(df_humans_cl[\"regActivity\"].value_counts())\n"
   ]
  },
  {
   "cell_type": "code",
   "execution_count": 25,
   "metadata": {},
   "outputs": [
    {
     "data": {
      "text/html": [
       "<div>\n",
       "<style scoped>\n",
       "    .dataframe tbody tr th:only-of-type {\n",
       "        vertical-align: middle;\n",
       "    }\n",
       "\n",
       "    .dataframe tbody tr th {\n",
       "        vertical-align: top;\n",
       "    }\n",
       "\n",
       "    .dataframe thead th {\n",
       "        text-align: right;\n",
       "    }\n",
       "</style>\n",
       "<table border=\"1\" class=\"dataframe\">\n",
       "  <thead>\n",
       "    <tr style=\"text-align: right;\">\n",
       "      <th></th>\n",
       "      <th>Type</th>\n",
       "      <th>Country</th>\n",
       "      <th>Activity</th>\n",
       "      <th>Sex</th>\n",
       "      <th>regActivity</th>\n",
       "    </tr>\n",
       "  </thead>\n",
       "  <tbody>\n",
       "    <tr>\n",
       "      <th>4</th>\n",
       "      <td>Provoked</td>\n",
       "      <td>MEXICO</td>\n",
       "      <td>Free diving</td>\n",
       "      <td>M</td>\n",
       "      <td>Free diving</td>\n",
       "    </tr>\n",
       "    <tr>\n",
       "      <th>10</th>\n",
       "      <td>Provoked</td>\n",
       "      <td>AUSTRALIA</td>\n",
       "      <td>Feeding sharks</td>\n",
       "      <td>M</td>\n",
       "      <td>Feeding</td>\n",
       "    </tr>\n",
       "    <tr>\n",
       "      <th>14</th>\n",
       "      <td>Provoked</td>\n",
       "      <td>AUSTRALIA</td>\n",
       "      <td>Feeding sharks</td>\n",
       "      <td>F</td>\n",
       "      <td>Feeding</td>\n",
       "    </tr>\n",
       "    <tr>\n",
       "      <th>41</th>\n",
       "      <td>Provoked</td>\n",
       "      <td>AUSTRALIA</td>\n",
       "      <td>Kayak fishing for sharks</td>\n",
       "      <td>M</td>\n",
       "      <td>Kayak fishing</td>\n",
       "    </tr>\n",
       "    <tr>\n",
       "      <th>55</th>\n",
       "      <td>Provoked</td>\n",
       "      <td>MALAYSIA</td>\n",
       "      <td>Fishing / Wading</td>\n",
       "      <td>M</td>\n",
       "      <td>Fishing</td>\n",
       "    </tr>\n",
       "    <tr>\n",
       "      <th>...</th>\n",
       "      <td>...</td>\n",
       "      <td>...</td>\n",
       "      <td>...</td>\n",
       "      <td>...</td>\n",
       "      <td>...</td>\n",
       "    </tr>\n",
       "    <tr>\n",
       "      <th>6224</th>\n",
       "      <td>Provoked</td>\n",
       "      <td>VANUATU</td>\n",
       "      <td>Attempting to drive shark from area</td>\n",
       "      <td>M</td>\n",
       "      <td>Attempting</td>\n",
       "    </tr>\n",
       "    <tr>\n",
       "      <th>6226</th>\n",
       "      <td>Provoked</td>\n",
       "      <td>USA</td>\n",
       "      <td>Skin diving. Grabbed shark's tail; shark turne...</td>\n",
       "      <td>M</td>\n",
       "      <td>Skin diving</td>\n",
       "    </tr>\n",
       "    <tr>\n",
       "      <th>6250</th>\n",
       "      <td>Provoked</td>\n",
       "      <td>BAHAMAS</td>\n",
       "      <td>Testing movie camera in full diving dress</td>\n",
       "      <td>M</td>\n",
       "      <td>Testing</td>\n",
       "    </tr>\n",
       "    <tr>\n",
       "      <th>6254</th>\n",
       "      <td>Provoked</td>\n",
       "      <td>CUBA</td>\n",
       "      <td>Shark fishing, knocked overboard</td>\n",
       "      <td>M</td>\n",
       "      <td>Shark fishing</td>\n",
       "    </tr>\n",
       "    <tr>\n",
       "      <th>6270</th>\n",
       "      <td>Provoked</td>\n",
       "      <td>BURMA</td>\n",
       "      <td>Carrying a supposedly dead shark by its mouth</td>\n",
       "      <td>M</td>\n",
       "      <td>Carrying</td>\n",
       "    </tr>\n",
       "  </tbody>\n",
       "</table>\n",
       "<p>476 rows × 5 columns</p>\n",
       "</div>"
      ],
      "text/plain": [
       "          Type    Country                                           Activity  \\\n",
       "4     Provoked     MEXICO                                        Free diving   \n",
       "10    Provoked  AUSTRALIA                                     Feeding sharks   \n",
       "14    Provoked  AUSTRALIA                                     Feeding sharks   \n",
       "41    Provoked  AUSTRALIA                           Kayak fishing for sharks   \n",
       "55    Provoked   MALAYSIA                                   Fishing / Wading   \n",
       "...        ...        ...                                                ...   \n",
       "6224  Provoked    VANUATU                Attempting to drive shark from area   \n",
       "6226  Provoked        USA  Skin diving. Grabbed shark's tail; shark turne...   \n",
       "6250  Provoked    BAHAMAS          Testing movie camera in full diving dress   \n",
       "6254  Provoked       CUBA                   Shark fishing, knocked overboard   \n",
       "6270  Provoked      BURMA      Carrying a supposedly dead shark by its mouth   \n",
       "\n",
       "     Sex    regActivity  \n",
       "4      M    Free diving  \n",
       "10     M        Feeding  \n",
       "14     F        Feeding  \n",
       "41     M  Kayak fishing  \n",
       "55     M        Fishing  \n",
       "...   ..            ...  \n",
       "6224   M     Attempting  \n",
       "6226   M    Skin diving  \n",
       "6250   M        Testing  \n",
       "6254   M  Shark fishing  \n",
       "6270   M       Carrying  \n",
       "\n",
       "[476 rows x 5 columns]"
      ]
     },
     "execution_count": 25,
     "metadata": {},
     "output_type": "execute_result"
    }
   ],
   "source": [
    "# Drop possible empty lists\n",
    "df_humans_cl = df_humans_cl[df_humans_cl[\"regActivity\"].str.len() != 0]\n",
    "\n",
    "# Select only the first element on the \"regActivity\" list\n",
    "df_humans_cl[\"regActivity\"] = df_humans_cl[\"regActivity\"].apply(lambda x: x[0] )\n",
    "\n",
    "# Convert the regActivity list to string\n",
    "df_humans_cl[\"regActivity\"] = df_humans_cl[\"regActivity\"].apply(''.join)\n",
    "df_humans_cl"
   ]
  },
  {
   "cell_type": "markdown",
   "metadata": {},
   "source": [
    "Create the final dataset"
   ]
  },
  {
   "cell_type": "code",
   "execution_count": 26,
   "metadata": {},
   "outputs": [
    {
     "data": {
      "text/html": [
       "<div>\n",
       "<style scoped>\n",
       "    .dataframe tbody tr th:only-of-type {\n",
       "        vertical-align: middle;\n",
       "    }\n",
       "\n",
       "    .dataframe tbody tr th {\n",
       "        vertical-align: top;\n",
       "    }\n",
       "\n",
       "    .dataframe thead th {\n",
       "        text-align: right;\n",
       "    }\n",
       "</style>\n",
       "<table border=\"1\" class=\"dataframe\">\n",
       "  <thead>\n",
       "    <tr style=\"text-align: right;\">\n",
       "      <th></th>\n",
       "      <th>Country</th>\n",
       "      <th>Sex</th>\n",
       "      <th>Activity</th>\n",
       "    </tr>\n",
       "  </thead>\n",
       "  <tbody>\n",
       "    <tr>\n",
       "      <th>4</th>\n",
       "      <td>MEXICO</td>\n",
       "      <td>M</td>\n",
       "      <td>Free diving</td>\n",
       "    </tr>\n",
       "    <tr>\n",
       "      <th>10</th>\n",
       "      <td>AUSTRALIA</td>\n",
       "      <td>M</td>\n",
       "      <td>Feeding</td>\n",
       "    </tr>\n",
       "    <tr>\n",
       "      <th>14</th>\n",
       "      <td>AUSTRALIA</td>\n",
       "      <td>F</td>\n",
       "      <td>Feeding</td>\n",
       "    </tr>\n",
       "    <tr>\n",
       "      <th>41</th>\n",
       "      <td>AUSTRALIA</td>\n",
       "      <td>M</td>\n",
       "      <td>Kayak fishing</td>\n",
       "    </tr>\n",
       "    <tr>\n",
       "      <th>55</th>\n",
       "      <td>MALAYSIA</td>\n",
       "      <td>M</td>\n",
       "      <td>Fishing</td>\n",
       "    </tr>\n",
       "    <tr>\n",
       "      <th>...</th>\n",
       "      <td>...</td>\n",
       "      <td>...</td>\n",
       "      <td>...</td>\n",
       "    </tr>\n",
       "    <tr>\n",
       "      <th>6224</th>\n",
       "      <td>VANUATU</td>\n",
       "      <td>M</td>\n",
       "      <td>Attempting</td>\n",
       "    </tr>\n",
       "    <tr>\n",
       "      <th>6226</th>\n",
       "      <td>USA</td>\n",
       "      <td>M</td>\n",
       "      <td>Skin diving</td>\n",
       "    </tr>\n",
       "    <tr>\n",
       "      <th>6250</th>\n",
       "      <td>BAHAMAS</td>\n",
       "      <td>M</td>\n",
       "      <td>Testing</td>\n",
       "    </tr>\n",
       "    <tr>\n",
       "      <th>6254</th>\n",
       "      <td>CUBA</td>\n",
       "      <td>M</td>\n",
       "      <td>Shark fishing</td>\n",
       "    </tr>\n",
       "    <tr>\n",
       "      <th>6270</th>\n",
       "      <td>BURMA</td>\n",
       "      <td>M</td>\n",
       "      <td>Carrying</td>\n",
       "    </tr>\n",
       "  </tbody>\n",
       "</table>\n",
       "<p>476 rows × 3 columns</p>\n",
       "</div>"
      ],
      "text/plain": [
       "        Country Sex       Activity\n",
       "4        MEXICO   M    Free diving\n",
       "10    AUSTRALIA   M        Feeding\n",
       "14    AUSTRALIA   F        Feeding\n",
       "41    AUSTRALIA   M  Kayak fishing\n",
       "55     MALAYSIA   M        Fishing\n",
       "...         ...  ..            ...\n",
       "6224    VANUATU   M     Attempting\n",
       "6226        USA   M    Skin diving\n",
       "6250    BAHAMAS   M        Testing\n",
       "6254       CUBA   M  Shark fishing\n",
       "6270      BURMA   M       Carrying\n",
       "\n",
       "[476 rows x 3 columns]"
      ]
     },
     "execution_count": 26,
     "metadata": {},
     "output_type": "execute_result"
    }
   ],
   "source": [
    "# Select the final columns and rename them\n",
    "humans = df_humans_cl[[\"Country\", \"Sex\", \"regActivity\"]].rename(columns = {\"regActivity\" : \"Activity\"})\n",
    "# Export the data\n",
    "humans.to_csv(\"output/sharks.csv\")"
   ]
  },
  {
   "cell_type": "markdown",
   "metadata": {},
   "source": [
    "### Shark species involved in attacks by country"
   ]
  },
  {
   "cell_type": "code",
   "execution_count": null,
   "metadata": {},
   "outputs": [],
   "source": [
    "df_sharks = df_subset[[\"Country\", \"Species\"]]"
   ]
  },
  {
   "cell_type": "code",
   "execution_count": null,
   "metadata": {},
   "outputs": [],
   "source": [
    "# Check NAs\n",
    "evaluar_NA(sharks)"
   ]
  },
  {
   "cell_type": "code",
   "execution_count": null,
   "metadata": {},
   "outputs": [],
   "source": [
    "# Drop \"Species\" rows with null values\n",
    "sharks_cl = df_sharks.dropna(axis=0)\n",
    "sharks_cl.shape\n"
   ]
  },
  {
   "cell_type": "markdown",
   "metadata": {},
   "source": [
    "Extracting the shark species"
   ]
  },
  {
   "cell_type": "code",
   "execution_count": null,
   "metadata": {},
   "outputs": [],
   "source": [
    "#prueba\n",
    "# Extract from 1 up to 2 words before the word 'shark'\n",
    "sharks_cl['spp'] = sharks_cl[\"Species\"].str.findall(r\"((?:[A-Za-z-]*\\s){1,2}(?:[Ss]hark|[Cc]atfish|[Pp]ointer))\")\n",
    "sharks_cl.iloc[50:100, [1,2]]"
   ]
  },
  {
   "cell_type": "code",
   "execution_count": null,
   "metadata": {
    "scrolled": false
   },
   "outputs": [],
   "source": [
    "# Extract only the values wich are not empty\n",
    "sharks_cl = sharks_cl[sharks_cl[\"spp\"].str.len() != 0]\n",
    "sharks_cl.loc[114, \"spp_str\"]"
   ]
  },
  {
   "cell_type": "code",
   "execution_count": null,
   "metadata": {
    "scrolled": true
   },
   "outputs": [],
   "source": [
    "# Convert to strings\n",
    "sharks_cl[\"spp_str\"] = sharks_cl[\"spp\"].apply(''.join)\n",
    "# Delete rows with only 'shark', 'm shark', 'No shark', 'A small shark'\n",
    "sharks_cl2 = sharks_cl[sharks_cl[\"spp_str\"].isin([' m shark', ' shark', 'No shark','Not a shark', 'A small shark'])== False]\n",
    "sharks_cl2[\"spp_str\"] = sharks_cl2[\"spp_str\"].str.title()\n"
   ]
  },
  {
   "cell_type": "code",
   "execution_count": null,
   "metadata": {},
   "outputs": [],
   "source": [
    "# Final \n",
    "sharks = sharks_cl2[[\"Country\",\"spp_str\"]]\n",
    "# Rename and reset index\n",
    "sharks = sharks.rename(columns = {\"spp_str\" : \"Species\"}).reset_index()\n",
    "# Export to csv\n",
    "sharks.to_csv(\"output/sharks.csv\")"
   ]
  }
 ],
 "metadata": {
  "kernelspec": {
   "display_name": "Python 3",
   "language": "python",
   "name": "python3"
  },
  "language_info": {
   "codemirror_mode": {
    "name": "ipython",
    "version": 3
   },
   "file_extension": ".py",
   "mimetype": "text/x-python",
   "name": "python",
   "nbconvert_exporter": "python",
   "pygments_lexer": "ipython3",
   "version": "3.7.6"
  }
 },
 "nbformat": 4,
 "nbformat_minor": 4
}
