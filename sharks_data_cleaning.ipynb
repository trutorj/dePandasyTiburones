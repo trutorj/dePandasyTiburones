{
 "cells": [
  {
   "cell_type": "markdown",
   "metadata": {},
   "source": [
    "# Cleaning of shark attacks data set"
   ]
  },
  {
   "cell_type": "code",
   "execution_count": 1,
   "metadata": {},
   "outputs": [],
   "source": [
    "#Imports\n",
    "import pandas as pd\n",
    "import numpy as np\n",
    "import re\n",
    "\n",
    "# Functions\n",
    "# Evaluate the NA's\n",
    "def evaluar_NA(data):\n",
    "    # Pandas series denoting features and the sum of their null values\n",
    "    null_sum = data.isna().sum()\n",
    "    # Total\n",
    "    total = null_sum.sort_values(ascending=False)\n",
    "    # Percentage\n",
    "    percent = ( ((null_sum / len(data.index))*100).round(2) ).sort_values(ascending=False) \n",
    "    # concatenate along the columns to create the complete dataframe\n",
    "    df_NA = pd.concat([total, percent], axis=1, keys=['Number of NA', 'Percent NA'])   \n",
    "    return df_NA\n",
    "\n",
    "# data\n",
    "data = pd.read_csv('../data/attacks.csv', encoding='latin-1')"
   ]
  },
  {
   "cell_type": "markdown",
   "metadata": {},
   "source": [
    "Quick preview of the data"
   ]
  },
  {
   "cell_type": "code",
   "execution_count": 2,
   "metadata": {},
   "outputs": [
    {
     "name": "stdout",
     "output_type": "stream",
     "text": [
      "(25723, 24)\n",
      "Index(['Case Number', 'Date', 'Year', 'Type', 'Country', 'Area', 'Location',\n",
      "       'Activity', 'Name', 'Sex ', 'Age', 'Injury', 'Fatal (Y/N)', 'Time',\n",
      "       'Species ', 'Investigator or Source', 'pdf', 'href formula', 'href',\n",
      "       'Case Number.1', 'Case Number.2', 'original order', 'Unnamed: 22',\n",
      "       'Unnamed: 23'],\n",
      "      dtype='object')\n"
     ]
    }
   ],
   "source": [
    "print(data.shape)\n",
    "print(data.columns)\n"
   ]
  },
  {
   "cell_type": "markdown",
   "metadata": {},
   "source": [
    "Our first task is to subset the initial dataset to keep only the variables that we are going to use:\n",
    "* Type\n",
    "* Country\n",
    "* Activity\n",
    "* Sex\n",
    "* Age\n",
    "* Species"
   ]
  },
  {
   "cell_type": "code",
   "execution_count": 3,
   "metadata": {},
   "outputs": [
    {
     "data": {
      "text/html": [
       "<div>\n",
       "<style scoped>\n",
       "    .dataframe tbody tr th:only-of-type {\n",
       "        vertical-align: middle;\n",
       "    }\n",
       "\n",
       "    .dataframe tbody tr th {\n",
       "        vertical-align: top;\n",
       "    }\n",
       "\n",
       "    .dataframe thead th {\n",
       "        text-align: right;\n",
       "    }\n",
       "</style>\n",
       "<table border=\"1\" class=\"dataframe\">\n",
       "  <thead>\n",
       "    <tr style=\"text-align: right;\">\n",
       "      <th></th>\n",
       "      <th>Case Number</th>\n",
       "      <th>Type</th>\n",
       "      <th>Country</th>\n",
       "      <th>Area</th>\n",
       "      <th>Activity</th>\n",
       "      <th>Sex</th>\n",
       "      <th>Age</th>\n",
       "      <th>Species</th>\n",
       "    </tr>\n",
       "  </thead>\n",
       "  <tbody>\n",
       "    <tr>\n",
       "      <th>0</th>\n",
       "      <td>2018.06.25</td>\n",
       "      <td>Boating</td>\n",
       "      <td>USA</td>\n",
       "      <td>California</td>\n",
       "      <td>Paddling</td>\n",
       "      <td>F</td>\n",
       "      <td>57</td>\n",
       "      <td>White shark</td>\n",
       "    </tr>\n",
       "    <tr>\n",
       "      <th>1</th>\n",
       "      <td>2018.06.18</td>\n",
       "      <td>Unprovoked</td>\n",
       "      <td>USA</td>\n",
       "      <td>Georgia</td>\n",
       "      <td>Standing</td>\n",
       "      <td>F</td>\n",
       "      <td>11</td>\n",
       "      <td>NaN</td>\n",
       "    </tr>\n",
       "    <tr>\n",
       "      <th>2</th>\n",
       "      <td>2018.06.09</td>\n",
       "      <td>Invalid</td>\n",
       "      <td>USA</td>\n",
       "      <td>Hawaii</td>\n",
       "      <td>Surfing</td>\n",
       "      <td>M</td>\n",
       "      <td>48</td>\n",
       "      <td>NaN</td>\n",
       "    </tr>\n",
       "    <tr>\n",
       "      <th>3</th>\n",
       "      <td>2018.06.08</td>\n",
       "      <td>Unprovoked</td>\n",
       "      <td>AUSTRALIA</td>\n",
       "      <td>New South Wales</td>\n",
       "      <td>Surfing</td>\n",
       "      <td>M</td>\n",
       "      <td>NaN</td>\n",
       "      <td>2 m shark</td>\n",
       "    </tr>\n",
       "    <tr>\n",
       "      <th>4</th>\n",
       "      <td>2018.06.04</td>\n",
       "      <td>Provoked</td>\n",
       "      <td>MEXICO</td>\n",
       "      <td>Colima</td>\n",
       "      <td>Free diving</td>\n",
       "      <td>M</td>\n",
       "      <td>NaN</td>\n",
       "      <td>Tiger shark, 3m</td>\n",
       "    </tr>\n",
       "  </tbody>\n",
       "</table>\n",
       "</div>"
      ],
      "text/plain": [
       "  Case Number        Type    Country             Area     Activity Sex  Age  \\\n",
       "0  2018.06.25     Boating        USA       California     Paddling   F   57   \n",
       "1  2018.06.18  Unprovoked        USA          Georgia     Standing   F   11   \n",
       "2  2018.06.09     Invalid        USA           Hawaii      Surfing   M   48   \n",
       "3  2018.06.08  Unprovoked  AUSTRALIA  New South Wales      Surfing   M  NaN   \n",
       "4  2018.06.04    Provoked     MEXICO           Colima  Free diving   M  NaN   \n",
       "\n",
       "           Species  \n",
       "0      White shark  \n",
       "1              NaN  \n",
       "2              NaN  \n",
       "3        2 m shark  \n",
       "4  Tiger shark, 3m  "
      ]
     },
     "execution_count": 3,
     "metadata": {},
     "output_type": "execute_result"
    }
   ],
   "source": [
    "# Subset the dataframe with the needed columns\n",
    "df_subset = data[[\"Case Number\", \"Type\", \"Country\", \"Area\", \"Activity\", \"Sex \", \"Age\", \"Species \"]]\n",
    "\n",
    "# Rename the Sex and Species columns to remove the last space and avoid problems in the future...\n",
    "df_subset = df_subset.rename(columns={\"Sex \": \"Sex\", \"Species \": \"Species\"})\n",
    "\n",
    "df_subset.head()"
   ]
  },
  {
   "cell_type": "markdown",
   "metadata": {},
   "source": [
    "### The most conflictive human"
   ]
  },
  {
   "cell_type": "code",
   "execution_count": 4,
   "metadata": {},
   "outputs": [],
   "source": [
    "# Select only the needed columns\n",
    "df_humans = df_subset[[\"Type\", \"Country\", \"Activity\", \"Sex\", \"Age\",]]\n",
    "# Select only the provoked incidents\n",
    "df_humans = df_humans[df_humans[\"Type\"] == \"Provoked\"]\n",
    "#df_humans"
   ]
  },
  {
   "cell_type": "markdown",
   "metadata": {},
   "source": [
    "First at all, we are goint the evaluate the amount of NA's in the dataset"
   ]
  },
  {
   "cell_type": "code",
   "execution_count": 5,
   "metadata": {
    "scrolled": true
   },
   "outputs": [
    {
     "data": {
      "text/html": [
       "<div>\n",
       "<style scoped>\n",
       "    .dataframe tbody tr th:only-of-type {\n",
       "        vertical-align: middle;\n",
       "    }\n",
       "\n",
       "    .dataframe tbody tr th {\n",
       "        vertical-align: top;\n",
       "    }\n",
       "\n",
       "    .dataframe thead th {\n",
       "        text-align: right;\n",
       "    }\n",
       "</style>\n",
       "<table border=\"1\" class=\"dataframe\">\n",
       "  <thead>\n",
       "    <tr style=\"text-align: right;\">\n",
       "      <th></th>\n",
       "      <th>Number of NA</th>\n",
       "      <th>Percent NA</th>\n",
       "    </tr>\n",
       "  </thead>\n",
       "  <tbody>\n",
       "    <tr>\n",
       "      <th>Age</th>\n",
       "      <td>294</td>\n",
       "      <td>51.22</td>\n",
       "    </tr>\n",
       "    <tr>\n",
       "      <th>Sex</th>\n",
       "      <td>57</td>\n",
       "      <td>9.93</td>\n",
       "    </tr>\n",
       "    <tr>\n",
       "      <th>Activity</th>\n",
       "      <td>35</td>\n",
       "      <td>6.10</td>\n",
       "    </tr>\n",
       "    <tr>\n",
       "      <th>Country</th>\n",
       "      <td>3</td>\n",
       "      <td>0.52</td>\n",
       "    </tr>\n",
       "    <tr>\n",
       "      <th>Type</th>\n",
       "      <td>0</td>\n",
       "      <td>0.00</td>\n",
       "    </tr>\n",
       "  </tbody>\n",
       "</table>\n",
       "</div>"
      ],
      "text/plain": [
       "          Number of NA  Percent NA\n",
       "Age                294       51.22\n",
       "Sex                 57        9.93\n",
       "Activity            35        6.10\n",
       "Country              3        0.52\n",
       "Type                 0        0.00"
      ]
     },
     "execution_count": 5,
     "metadata": {},
     "output_type": "execute_result"
    }
   ],
   "source": [
    "# Evaluate the percentage of \n",
    "evaluar_NA(df_humans)"
   ]
  },
  {
   "cell_type": "markdown",
   "metadata": {},
   "source": [
    "Due to the high percentage of NA's in the **Age** column, we've decided to exclude it from the dataset."
   ]
  },
  {
   "cell_type": "code",
   "execution_count": 6,
   "metadata": {},
   "outputs": [
    {
     "data": {
      "text/plain": [
       "(487, 4)"
      ]
     },
     "execution_count": 6,
     "metadata": {},
     "output_type": "execute_result"
    }
   ],
   "source": [
    "# Drop the \"Age\" column\n",
    "df_humans_cl = df_humans.drop([\"Age\"], axis=1)\n",
    "\n",
    "# Drop NA's\n",
    "df_humans_cl = df_humans_cl.dropna(axis=0)\n",
    "df_humans_cl.shape"
   ]
  },
  {
   "cell_type": "markdown",
   "metadata": {},
   "source": [
    "Now, throgh regex expressions, we are going to extract the activy. With this regex, we want to group the activities into a few categories, in order to better group the data."
   ]
  },
  {
   "cell_type": "code",
   "execution_count": 7,
   "metadata": {
    "scrolled": true
   },
   "outputs": [
    {
     "data": {
      "text/html": [
       "<div>\n",
       "<style scoped>\n",
       "    .dataframe tbody tr th:only-of-type {\n",
       "        vertical-align: middle;\n",
       "    }\n",
       "\n",
       "    .dataframe tbody tr th {\n",
       "        vertical-align: top;\n",
       "    }\n",
       "\n",
       "    .dataframe thead th {\n",
       "        text-align: right;\n",
       "    }\n",
       "</style>\n",
       "<table border=\"1\" class=\"dataframe\">\n",
       "  <thead>\n",
       "    <tr style=\"text-align: right;\">\n",
       "      <th></th>\n",
       "      <th>Type</th>\n",
       "      <th>Country</th>\n",
       "      <th>Activity</th>\n",
       "      <th>Sex</th>\n",
       "      <th>regActivity</th>\n",
       "    </tr>\n",
       "  </thead>\n",
       "  <tbody>\n",
       "    <tr>\n",
       "      <th>4</th>\n",
       "      <td>Provoked</td>\n",
       "      <td>MEXICO</td>\n",
       "      <td>Free diving</td>\n",
       "      <td>M</td>\n",
       "      <td>[Free diving]</td>\n",
       "    </tr>\n",
       "    <tr>\n",
       "      <th>10</th>\n",
       "      <td>Provoked</td>\n",
       "      <td>AUSTRALIA</td>\n",
       "      <td>Feeding sharks</td>\n",
       "      <td>M</td>\n",
       "      <td>[Feeding]</td>\n",
       "    </tr>\n",
       "    <tr>\n",
       "      <th>14</th>\n",
       "      <td>Provoked</td>\n",
       "      <td>AUSTRALIA</td>\n",
       "      <td>Feeding sharks</td>\n",
       "      <td>F</td>\n",
       "      <td>[Feeding]</td>\n",
       "    </tr>\n",
       "    <tr>\n",
       "      <th>41</th>\n",
       "      <td>Provoked</td>\n",
       "      <td>AUSTRALIA</td>\n",
       "      <td>Kayak fishing for sharks</td>\n",
       "      <td>M</td>\n",
       "      <td>[Kayak fishing]</td>\n",
       "    </tr>\n",
       "    <tr>\n",
       "      <th>55</th>\n",
       "      <td>Provoked</td>\n",
       "      <td>MALAYSIA</td>\n",
       "      <td>Fishing / Wading</td>\n",
       "      <td>M</td>\n",
       "      <td>[Fishing,  Wading]</td>\n",
       "    </tr>\n",
       "    <tr>\n",
       "      <th>104</th>\n",
       "      <td>Provoked</td>\n",
       "      <td>USA</td>\n",
       "      <td>Fishing</td>\n",
       "      <td>M</td>\n",
       "      <td>[Fishing]</td>\n",
       "    </tr>\n",
       "    <tr>\n",
       "      <th>122</th>\n",
       "      <td>Provoked</td>\n",
       "      <td>MEXICO</td>\n",
       "      <td>Fishing</td>\n",
       "      <td>M</td>\n",
       "      <td>[Fishing]</td>\n",
       "    </tr>\n",
       "    <tr>\n",
       "      <th>139</th>\n",
       "      <td>Provoked</td>\n",
       "      <td>USA</td>\n",
       "      <td>Touching a shark</td>\n",
       "      <td>F</td>\n",
       "      <td>[Touching]</td>\n",
       "    </tr>\n",
       "    <tr>\n",
       "      <th>143</th>\n",
       "      <td>Provoked</td>\n",
       "      <td>AUSTRALIA</td>\n",
       "      <td>Attempting to lasso a shark</td>\n",
       "      <td>M</td>\n",
       "      <td>[Attempting]</td>\n",
       "    </tr>\n",
       "    <tr>\n",
       "      <th>177</th>\n",
       "      <td>Provoked</td>\n",
       "      <td>BRAZIL</td>\n",
       "      <td>Grabbing shark for a selfie</td>\n",
       "      <td>F</td>\n",
       "      <td>[Grabbing]</td>\n",
       "    </tr>\n",
       "  </tbody>\n",
       "</table>\n",
       "</div>"
      ],
      "text/plain": [
       "         Type    Country                     Activity Sex         regActivity\n",
       "4    Provoked     MEXICO                  Free diving   M       [Free diving]\n",
       "10   Provoked  AUSTRALIA               Feeding sharks   M           [Feeding]\n",
       "14   Provoked  AUSTRALIA               Feeding sharks   F           [Feeding]\n",
       "41   Provoked  AUSTRALIA     Kayak fishing for sharks   M     [Kayak fishing]\n",
       "55   Provoked   MALAYSIA             Fishing / Wading   M  [Fishing,  Wading]\n",
       "104  Provoked        USA                      Fishing   M           [Fishing]\n",
       "122  Provoked     MEXICO                      Fishing   M           [Fishing]\n",
       "139  Provoked        USA             Touching a shark   F          [Touching]\n",
       "143  Provoked  AUSTRALIA  Attempting to lasso a shark   M        [Attempting]\n",
       "177  Provoked     BRAZIL  Grabbing shark for a selfie   F          [Grabbing]"
      ]
     },
     "execution_count": 7,
     "metadata": {},
     "output_type": "execute_result"
    }
   ],
   "source": [
    "df_humans_cl[\"regActivity\"] = df_humans_cl[\"Activity\"].str.findall(r\"((?:[A-Za-z-]*\\s){0,1}(?:[A-Za-z]*ing))\")\n",
    "#print(df_humans_cl[\"regActivity\"].value_counts())\n",
    "df_humans_cl.iloc[:10, ]"
   ]
  },
  {
   "cell_type": "code",
   "execution_count": 8,
   "metadata": {},
   "outputs": [
    {
     "data": {
      "text/html": [
       "<div>\n",
       "<style scoped>\n",
       "    .dataframe tbody tr th:only-of-type {\n",
       "        vertical-align: middle;\n",
       "    }\n",
       "\n",
       "    .dataframe tbody tr th {\n",
       "        vertical-align: top;\n",
       "    }\n",
       "\n",
       "    .dataframe thead th {\n",
       "        text-align: right;\n",
       "    }\n",
       "</style>\n",
       "<table border=\"1\" class=\"dataframe\">\n",
       "  <thead>\n",
       "    <tr style=\"text-align: right;\">\n",
       "      <th></th>\n",
       "      <th>Type</th>\n",
       "      <th>Country</th>\n",
       "      <th>Activity</th>\n",
       "      <th>Sex</th>\n",
       "      <th>regActivity</th>\n",
       "    </tr>\n",
       "  </thead>\n",
       "  <tbody>\n",
       "    <tr>\n",
       "      <th>4</th>\n",
       "      <td>Provoked</td>\n",
       "      <td>MEXICO</td>\n",
       "      <td>Free diving</td>\n",
       "      <td>M</td>\n",
       "      <td>Free diving</td>\n",
       "    </tr>\n",
       "    <tr>\n",
       "      <th>10</th>\n",
       "      <td>Provoked</td>\n",
       "      <td>AUSTRALIA</td>\n",
       "      <td>Feeding sharks</td>\n",
       "      <td>M</td>\n",
       "      <td>Feeding</td>\n",
       "    </tr>\n",
       "    <tr>\n",
       "      <th>14</th>\n",
       "      <td>Provoked</td>\n",
       "      <td>AUSTRALIA</td>\n",
       "      <td>Feeding sharks</td>\n",
       "      <td>F</td>\n",
       "      <td>Feeding</td>\n",
       "    </tr>\n",
       "    <tr>\n",
       "      <th>41</th>\n",
       "      <td>Provoked</td>\n",
       "      <td>AUSTRALIA</td>\n",
       "      <td>Kayak fishing for sharks</td>\n",
       "      <td>M</td>\n",
       "      <td>Kayak fishing</td>\n",
       "    </tr>\n",
       "    <tr>\n",
       "      <th>55</th>\n",
       "      <td>Provoked</td>\n",
       "      <td>MALAYSIA</td>\n",
       "      <td>Fishing / Wading</td>\n",
       "      <td>M</td>\n",
       "      <td>Fishing</td>\n",
       "    </tr>\n",
       "    <tr>\n",
       "      <th>104</th>\n",
       "      <td>Provoked</td>\n",
       "      <td>USA</td>\n",
       "      <td>Fishing</td>\n",
       "      <td>M</td>\n",
       "      <td>Fishing</td>\n",
       "    </tr>\n",
       "    <tr>\n",
       "      <th>122</th>\n",
       "      <td>Provoked</td>\n",
       "      <td>MEXICO</td>\n",
       "      <td>Fishing</td>\n",
       "      <td>M</td>\n",
       "      <td>Fishing</td>\n",
       "    </tr>\n",
       "    <tr>\n",
       "      <th>139</th>\n",
       "      <td>Provoked</td>\n",
       "      <td>USA</td>\n",
       "      <td>Touching a shark</td>\n",
       "      <td>F</td>\n",
       "      <td>Touching</td>\n",
       "    </tr>\n",
       "    <tr>\n",
       "      <th>143</th>\n",
       "      <td>Provoked</td>\n",
       "      <td>AUSTRALIA</td>\n",
       "      <td>Attempting to lasso a shark</td>\n",
       "      <td>M</td>\n",
       "      <td>Attempting</td>\n",
       "    </tr>\n",
       "    <tr>\n",
       "      <th>177</th>\n",
       "      <td>Provoked</td>\n",
       "      <td>BRAZIL</td>\n",
       "      <td>Grabbing shark for a selfie</td>\n",
       "      <td>F</td>\n",
       "      <td>Grabbing</td>\n",
       "    </tr>\n",
       "  </tbody>\n",
       "</table>\n",
       "</div>"
      ],
      "text/plain": [
       "         Type    Country                     Activity Sex    regActivity\n",
       "4    Provoked     MEXICO                  Free diving   M    Free diving\n",
       "10   Provoked  AUSTRALIA               Feeding sharks   M        Feeding\n",
       "14   Provoked  AUSTRALIA               Feeding sharks   F        Feeding\n",
       "41   Provoked  AUSTRALIA     Kayak fishing for sharks   M  Kayak fishing\n",
       "55   Provoked   MALAYSIA             Fishing / Wading   M        Fishing\n",
       "104  Provoked        USA                      Fishing   M        Fishing\n",
       "122  Provoked     MEXICO                      Fishing   M        Fishing\n",
       "139  Provoked        USA             Touching a shark   F       Touching\n",
       "143  Provoked  AUSTRALIA  Attempting to lasso a shark   M     Attempting\n",
       "177  Provoked     BRAZIL  Grabbing shark for a selfie   F       Grabbing"
      ]
     },
     "execution_count": 8,
     "metadata": {},
     "output_type": "execute_result"
    }
   ],
   "source": [
    "# Drop possible empty lists\n",
    "df_humans_cl = df_humans_cl[df_humans_cl[\"regActivity\"].str.len() != 0]\n",
    "\n",
    "# Select only the first element on the \"regActivity\" list\n",
    "df_humans_cl[\"regActivity\"] = df_humans_cl[\"regActivity\"].apply(lambda x: x[0] )\n",
    "\n",
    "# Convert the regActivity list to string\n",
    "df_humans_cl[\"regActivity\"] = df_humans_cl[\"regActivity\"].apply(''.join)\n",
    "df_humans_cl.iloc[:10, ]"
   ]
  },
  {
   "cell_type": "markdown",
   "metadata": {},
   "source": [
    "Create the final dataset"
   ]
  },
  {
   "cell_type": "code",
   "execution_count": 9,
   "metadata": {
    "scrolled": true
   },
   "outputs": [],
   "source": [
    "# Select the final columns and rename them\n",
    "humans = df_humans_cl[[\"Country\", \"Sex\", \"regActivity\"]].rename(columns = {\"regActivity\" : \"Activity\"}).reset_index(drop=True)\n",
    "#humans\n",
    "# Export the data\n",
    "humans.to_csv(\"output/humans.csv\")"
   ]
  },
  {
   "cell_type": "markdown",
   "metadata": {},
   "source": [
    "### The most trouble maker shark by species and region"
   ]
  },
  {
   "cell_type": "code",
   "execution_count": 10,
   "metadata": {},
   "outputs": [],
   "source": [
    "df_sharks = df_subset[[\"Country\", \"Area\", \"Species\"]]"
   ]
  },
  {
   "cell_type": "code",
   "execution_count": 11,
   "metadata": {},
   "outputs": [
    {
     "data": {
      "text/html": [
       "<div>\n",
       "<style scoped>\n",
       "    .dataframe tbody tr th:only-of-type {\n",
       "        vertical-align: middle;\n",
       "    }\n",
       "\n",
       "    .dataframe tbody tr th {\n",
       "        vertical-align: top;\n",
       "    }\n",
       "\n",
       "    .dataframe thead th {\n",
       "        text-align: right;\n",
       "    }\n",
       "</style>\n",
       "<table border=\"1\" class=\"dataframe\">\n",
       "  <thead>\n",
       "    <tr style=\"text-align: right;\">\n",
       "      <th></th>\n",
       "      <th>Number of NA</th>\n",
       "      <th>Percent NA</th>\n",
       "    </tr>\n",
       "  </thead>\n",
       "  <tbody>\n",
       "    <tr>\n",
       "      <th>Species</th>\n",
       "      <td>22259</td>\n",
       "      <td>86.53</td>\n",
       "    </tr>\n",
       "    <tr>\n",
       "      <th>Area</th>\n",
       "      <td>19876</td>\n",
       "      <td>77.27</td>\n",
       "    </tr>\n",
       "    <tr>\n",
       "      <th>Country</th>\n",
       "      <td>19471</td>\n",
       "      <td>75.69</td>\n",
       "    </tr>\n",
       "  </tbody>\n",
       "</table>\n",
       "</div>"
      ],
      "text/plain": [
       "         Number of NA  Percent NA\n",
       "Species         22259       86.53\n",
       "Area            19876       77.27\n",
       "Country         19471       75.69"
      ]
     },
     "execution_count": 11,
     "metadata": {},
     "output_type": "execute_result"
    }
   ],
   "source": [
    "# Check NAs\n",
    "evaluar_NA(df_sharks)"
   ]
  },
  {
   "cell_type": "code",
   "execution_count": 12,
   "metadata": {},
   "outputs": [
    {
     "data": {
      "text/plain": [
       "(3300, 3)"
      ]
     },
     "execution_count": 12,
     "metadata": {},
     "output_type": "execute_result"
    }
   ],
   "source": [
    "# Drop \"Species\" rows with null values\n",
    "df_sharks_cl = df_sharks.dropna(axis=0)\n",
    "df_sharks_cl.shape\n"
   ]
  },
  {
   "cell_type": "markdown",
   "metadata": {},
   "source": [
    "Extracting the shark species"
   ]
  },
  {
   "cell_type": "code",
   "execution_count": 13,
   "metadata": {},
   "outputs": [
    {
     "name": "stderr",
     "output_type": "stream",
     "text": [
      "/home/lee/anaconda3/lib/python3.7/site-packages/ipykernel_launcher.py:3: SettingWithCopyWarning: \n",
      "A value is trying to be set on a copy of a slice from a DataFrame.\n",
      "Try using .loc[row_indexer,col_indexer] = value instead\n",
      "\n",
      "See the caveats in the documentation: https://pandas.pydata.org/pandas-docs/stable/user_guide/indexing.html#returning-a-view-versus-a-copy\n",
      "  This is separate from the ipykernel package so we can avoid doing imports until\n"
     ]
    },
    {
     "data": {
      "text/html": [
       "<div>\n",
       "<style scoped>\n",
       "    .dataframe tbody tr th:only-of-type {\n",
       "        vertical-align: middle;\n",
       "    }\n",
       "\n",
       "    .dataframe tbody tr th {\n",
       "        vertical-align: top;\n",
       "    }\n",
       "\n",
       "    .dataframe thead th {\n",
       "        text-align: right;\n",
       "    }\n",
       "</style>\n",
       "<table border=\"1\" class=\"dataframe\">\n",
       "  <thead>\n",
       "    <tr style=\"text-align: right;\">\n",
       "      <th></th>\n",
       "      <th>Country</th>\n",
       "      <th>Area</th>\n",
       "      <th>Species</th>\n",
       "    </tr>\n",
       "  </thead>\n",
       "  <tbody>\n",
       "    <tr>\n",
       "      <th>0</th>\n",
       "      <td>USA</td>\n",
       "      <td>California</td>\n",
       "      <td>White shark</td>\n",
       "    </tr>\n",
       "    <tr>\n",
       "      <th>3</th>\n",
       "      <td>AUSTRALIA</td>\n",
       "      <td>New South Wales</td>\n",
       "      <td>2 m shark</td>\n",
       "    </tr>\n",
       "    <tr>\n",
       "      <th>4</th>\n",
       "      <td>MEXICO</td>\n",
       "      <td>Colima</td>\n",
       "      <td>Tiger shark, 3m</td>\n",
       "    </tr>\n",
       "    <tr>\n",
       "      <th>6</th>\n",
       "      <td>BRAZIL</td>\n",
       "      <td>Pernambuco</td>\n",
       "      <td>Tiger shark</td>\n",
       "    </tr>\n",
       "    <tr>\n",
       "      <th>7</th>\n",
       "      <td>USA</td>\n",
       "      <td>Florida</td>\n",
       "      <td>Lemon shark, 3'</td>\n",
       "    </tr>\n",
       "    <tr>\n",
       "      <th>8</th>\n",
       "      <td>USA</td>\n",
       "      <td>Florida</td>\n",
       "      <td>Bull shark, 6'</td>\n",
       "    </tr>\n",
       "    <tr>\n",
       "      <th>10</th>\n",
       "      <td>AUSTRALIA</td>\n",
       "      <td>Queensland</td>\n",
       "      <td>Grey reef shark</td>\n",
       "    </tr>\n",
       "    <tr>\n",
       "      <th>13</th>\n",
       "      <td>ENGLAND</td>\n",
       "      <td>Cornwall</td>\n",
       "      <td>Invalid incident</td>\n",
       "    </tr>\n",
       "    <tr>\n",
       "      <th>14</th>\n",
       "      <td>AUSTRALIA</td>\n",
       "      <td>Westerm Australia</td>\n",
       "      <td>Tawny nurse shark, 2m</td>\n",
       "    </tr>\n",
       "    <tr>\n",
       "      <th>16</th>\n",
       "      <td>AUSTRALIA</td>\n",
       "      <td>New South Wales</td>\n",
       "      <td>Shark involvement not confirmed</td>\n",
       "    </tr>\n",
       "  </tbody>\n",
       "</table>\n",
       "</div>"
      ],
      "text/plain": [
       "      Country               Area                          Species\n",
       "0         USA         California                      White shark\n",
       "3   AUSTRALIA    New South Wales                        2 m shark\n",
       "4      MEXICO             Colima                  Tiger shark, 3m\n",
       "6      BRAZIL         Pernambuco                      Tiger shark\n",
       "7         USA            Florida                  Lemon shark, 3'\n",
       "8         USA            Florida                   Bull shark, 6'\n",
       "10  AUSTRALIA         Queensland                  Grey reef shark\n",
       "13    ENGLAND           Cornwall                 Invalid incident\n",
       "14  AUSTRALIA  Westerm Australia            Tawny nurse shark, 2m\n",
       "16  AUSTRALIA    New South Wales  Shark involvement not confirmed"
      ]
     },
     "execution_count": 13,
     "metadata": {},
     "output_type": "execute_result"
    }
   ],
   "source": [
    "#prueba\n",
    "# Extract from 1 up to 2 words before the word 'shark'\n",
    "df_sharks_cl['spp'] = df_sharks_cl[\"Species\"].str.findall(r\"((?:[A-Za-z-]*\\s){1,2}(?:[Ss]hark|[Cc]atfish|[Pp]ointer))\")\n",
    "df_sharks_cl.iloc[0:10, [0,1,2]]"
   ]
  },
  {
   "cell_type": "code",
   "execution_count": 14,
   "metadata": {
    "scrolled": false
   },
   "outputs": [
    {
     "data": {
      "text/plain": [
       "Species    2 m shark\n",
       "Name: 3, dtype: object"
      ]
     },
     "execution_count": 14,
     "metadata": {},
     "output_type": "execute_result"
    }
   ],
   "source": [
    "# Extract only the values wich are not empty\n",
    "df_sharks_cl = df_sharks_cl[df_sharks_cl[\"spp\"].str.len() != 0]\n",
    "df_sharks_cl.iloc[1, [2]]"
   ]
  },
  {
   "cell_type": "code",
   "execution_count": 15,
   "metadata": {
    "scrolled": true
   },
   "outputs": [
    {
     "name": "stderr",
     "output_type": "stream",
     "text": [
      "/home/lee/anaconda3/lib/python3.7/site-packages/ipykernel_launcher.py:8: SettingWithCopyWarning: \n",
      "A value is trying to be set on a copy of a slice from a DataFrame.\n",
      "Try using .loc[row_indexer,col_indexer] = value instead\n",
      "\n",
      "See the caveats in the documentation: https://pandas.pydata.org/pandas-docs/stable/user_guide/indexing.html#returning-a-view-versus-a-copy\n",
      "  \n",
      "/home/lee/anaconda3/lib/python3.7/site-packages/ipykernel_launcher.py:11: SettingWithCopyWarning: \n",
      "A value is trying to be set on a copy of a slice from a DataFrame.\n",
      "Try using .loc[row_indexer,col_indexer] = value instead\n",
      "\n",
      "See the caveats in the documentation: https://pandas.pydata.org/pandas-docs/stable/user_guide/indexing.html#returning-a-view-versus-a-copy\n",
      "  # This is added back by InteractiveShellApp.init_path()\n",
      "/home/lee/anaconda3/lib/python3.7/site-packages/ipykernel_launcher.py:12: SettingWithCopyWarning: \n",
      "A value is trying to be set on a copy of a slice from a DataFrame.\n",
      "Try using .loc[row_indexer,col_indexer] = value instead\n",
      "\n",
      "See the caveats in the documentation: https://pandas.pydata.org/pandas-docs/stable/user_guide/indexing.html#returning-a-view-versus-a-copy\n",
      "  if sys.path[0] == '':\n",
      "/home/lee/anaconda3/lib/python3.7/site-packages/ipykernel_launcher.py:13: SettingWithCopyWarning: \n",
      "A value is trying to be set on a copy of a slice from a DataFrame.\n",
      "Try using .loc[row_indexer,col_indexer] = value instead\n",
      "\n",
      "See the caveats in the documentation: https://pandas.pydata.org/pandas-docs/stable/user_guide/indexing.html#returning-a-view-versus-a-copy\n",
      "  del sys.path[0]\n",
      "/home/lee/anaconda3/lib/python3.7/site-packages/ipykernel_launcher.py:14: SettingWithCopyWarning: \n",
      "A value is trying to be set on a copy of a slice from a DataFrame.\n",
      "Try using .loc[row_indexer,col_indexer] = value instead\n",
      "\n",
      "See the caveats in the documentation: https://pandas.pydata.org/pandas-docs/stable/user_guide/indexing.html#returning-a-view-versus-a-copy\n",
      "  \n",
      "/home/lee/anaconda3/lib/python3.7/site-packages/ipykernel_launcher.py:15: SettingWithCopyWarning: \n",
      "A value is trying to be set on a copy of a slice from a DataFrame.\n",
      "Try using .loc[row_indexer,col_indexer] = value instead\n",
      "\n",
      "See the caveats in the documentation: https://pandas.pydata.org/pandas-docs/stable/user_guide/indexing.html#returning-a-view-versus-a-copy\n",
      "  from ipykernel import kernelapp as app\n",
      "/home/lee/anaconda3/lib/python3.7/site-packages/ipykernel_launcher.py:17: SettingWithCopyWarning: \n",
      "A value is trying to be set on a copy of a slice from a DataFrame.\n",
      "Try using .loc[row_indexer,col_indexer] = value instead\n",
      "\n",
      "See the caveats in the documentation: https://pandas.pydata.org/pandas-docs/stable/user_guide/indexing.html#returning-a-view-versus-a-copy\n",
      "/home/lee/anaconda3/lib/python3.7/site-packages/ipykernel_launcher.py:19: SettingWithCopyWarning: \n",
      "A value is trying to be set on a copy of a slice from a DataFrame.\n",
      "Try using .loc[row_indexer,col_indexer] = value instead\n",
      "\n",
      "See the caveats in the documentation: https://pandas.pydata.org/pandas-docs/stable/user_guide/indexing.html#returning-a-view-versus-a-copy\n"
     ]
    },
    {
     "data": {
      "text/plain": [
       "0                  [White shark]\n",
       "4                  [Tiger shark]\n",
       "6                  [Tiger shark]\n",
       "7                  [Lemon shark]\n",
       "8                   [Bull shark]\n",
       "10             [Grey reef shark]\n",
       "14           [Tawny nurse shark]\n",
       "18                 [Tiger shark]\n",
       "22                 [White shark]\n",
       "23                 [Tiger shark]\n",
       "24                 [White shark]\n",
       "26         [Juvenile bull shark]\n",
       "30                 [Tiger shark]\n",
       "34                 [White shark]\n",
       "35                 [Tiger shark]\n",
       "36             [Wobbegong shark]\n",
       "39              [Blacktip shark]\n",
       "40        [Juvenile white shark]\n",
       "42                  [Bull shark]\n",
       "45             [Galapagos shark]\n",
       "47                  [Bull shark]\n",
       "49             [Grey reef shark]\n",
       "50                 [White shark]\n",
       "51                 [small shark]\n",
       "52             [Wobbegong shark]\n",
       "53                 [Tiger shark]\n",
       "55        [Juvenile nurse shark]\n",
       "57                 [Tiger shark]\n",
       "58                 [Tiger shark]\n",
       "60                 [White shark]\n",
       "64                 [Tiger shark]\n",
       "65          [Cookiecutter shark]\n",
       "66             [Wobbegong shark]\n",
       "71                 [White shark]\n",
       "73               [Spinner shark]\n",
       "74                 [Tiger shark]\n",
       "78                 [White shark]\n",
       "86                 [White shark]\n",
       "89                 [White shark]\n",
       "93                 [Nurse shark]\n",
       "96                 [White shark]\n",
       "100                [White shark]\n",
       "102    [juvenile blacktip shark]\n",
       "103     [Oceanic whitetip shark]\n",
       "105                [White shark]\n",
       "112            [Sandtiger shark]\n",
       "113                 [Blue shark]\n",
       "116                [White shark]\n",
       "117                [White shark]\n",
       "118                [White shark]\n",
       "Name: spp, dtype: object"
      ]
     },
     "execution_count": 15,
     "metadata": {},
     "output_type": "execute_result"
    }
   ],
   "source": [
    "# Convert to strings\n",
    "df_sharks_cl[\"spp_str\"] = df_sharks_cl[\"spp\"].apply(''.join)\n",
    "\n",
    "# Delete rows with only 'shark', 'm shark', 'No shark', 'A small shark'\n",
    "df_sharks_cl2 = df_sharks_cl[df_sharks_cl[\"spp_str\"].isin([' m shark', 'm shark', ' shark', 'No shark','Not a shark', 'not a shark','A small shark', 'a small shark'])== False]\n",
    "\n",
    "# Remove empty spaces\n",
    "df_sharks_cl2[\"spp_str\"] = df_sharks_cl2[\"spp_str\"].str.strip()\n",
    "df_sharks_cl2[\"spp_str\"] = df_sharks_cl2[\"spp_str\"].str.rstrip()\n",
    "\n",
    "# Remove garbage strings at the beginning and the e\n",
    "df_sharks_cl2[\"spp_str\"] = df_sharks_cl2[\"spp_str\"].str.lstrip(\"A\")\n",
    "df_sharks_cl2[\"spp_str\"] = df_sharks_cl2[\"spp_str\"].str.lstrip(\"or\")\n",
    "df_sharks_cl2[\"spp_str\"] = df_sharks_cl2[\"spp_str\"].str.lstrip(\"juvenile\")\n",
    "df_sharks_cl2[\"spp_str\"] = df_sharks_cl2[\"spp_str\"].str.lstrip(\"Juvenile\")\n",
    "df_sharks_cl2[\"spp_str\"] = df_sharks_cl2[\"spp_str\"].str.lstrip(\"female\")\n",
    "# Remove empty spaces\n",
    "df_sharks_cl2[\"spp_str\"] = df_sharks_cl2[\"spp_str\"].str.strip()\n",
    "# Capitalize the string\n",
    "df_sharks_cl2[\"spp_str\"] = df_sharks_cl2[\"spp_str\"].str.capitalize()\n",
    "df_sharks_cl2.iloc[:50, 3]"
   ]
  },
  {
   "cell_type": "code",
   "execution_count": 16,
   "metadata": {},
   "outputs": [],
   "source": [
    "# Final \n",
    "sharks = df_sharks_cl2[[\"Country\",\"Area\",\"spp_str\"]]\n",
    "\n",
    "# Rename and reset index\n",
    "sharks = sharks.rename(columns = {\"spp_str\" : \"Species\"}).reset_index(drop=True)\n",
    "\n",
    "# Export to csv\n",
    "sharks.to_csv(\"output/sharks.csv\")"
   ]
  }
 ],
 "metadata": {
  "kernelspec": {
   "display_name": "Python 3",
   "language": "python",
   "name": "python3"
  },
  "language_info": {
   "codemirror_mode": {
    "name": "ipython",
    "version": 3
   },
   "file_extension": ".py",
   "mimetype": "text/x-python",
   "name": "python",
   "nbconvert_exporter": "python",
   "pygments_lexer": "ipython3",
   "version": "3.7.6"
  }
 },
 "nbformat": 4,
 "nbformat_minor": 4
}
